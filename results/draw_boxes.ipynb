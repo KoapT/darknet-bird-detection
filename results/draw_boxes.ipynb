{
 "cells": [
  {
   "cell_type": "code",
   "execution_count": 1,
   "metadata": {},
   "outputs": [],
   "source": [
    "import pandas as pd\n",
    "import numpy as np\n",
    "from PIL import ImageDraw, Image\n",
    "\n",
    "import os \n",
    "os.mkdir('draw_results')\n",
    "\n",
    "gt_path = 'mAP/input/ground-truth/'\n",
    "dr_path = 'mAP/input/detection-results/'\n",
    "img_path = 'mAP/input/images-optional/'\n",
    "\n",
    "imglist = [txt[:-4] for txt in os.listdir(dr_path) if txt.endswith('.txt')]\n",
    "\n",
    "for img in imglist:\n",
    "    jpg = os.path.join(img_path,img+'.jpg')\n",
    "    dr = os.path.join(dr_path,img+'.txt')\n",
    "    gt = os.path.join(gt_path,img+'.txt')\n",
    "    \n",
    "    pic = Image.open(jpg)\n",
    "    draw = ImageDraw.Draw(pic)\n",
    "    colors = [(255,0,0), (0,255,0)]\n",
    "    with open(dr,'r') as d:\n",
    "        for i in d.readlines():\n",
    "            items = i.strip().split(' ')\n",
    "            bbox = []\n",
    "            for b in items[2:]:\n",
    "                bbox.append(int(b))\n",
    "            draw.rectangle(bbox, outline=colors[0])\n",
    "            draw.text(bbox[:2], '{}'.format(items[0]), fill=colors[0])\n",
    "    with open(gt,'r') as g:\n",
    "        for i in g.readlines():\n",
    "            items = i.strip().split(' ')\n",
    "            bbox = []\n",
    "            for b in items[1:]:\n",
    "                bbox.append(int(b))\n",
    "            draw.rectangle(bbox, outline=colors[1])\n",
    "            draw.text(bbox[:2], '{}'.format(items[0]), fill=colors[1])\n",
    "    pic.save(os.path.join('draw_results',img+'.jpg'))"
   ]
  },
  {
   "cell_type": "code",
   "execution_count": null,
   "metadata": {},
   "outputs": [],
   "source": []
  }
 ],
 "metadata": {
  "kernelspec": {
   "display_name": "Python 3",
   "language": "python",
   "name": "python3"
  },
  "language_info": {
   "codemirror_mode": {
    "name": "ipython",
    "version": 3
   },
   "file_extension": ".py",
   "mimetype": "text/x-python",
   "name": "python",
   "nbconvert_exporter": "python",
   "pygments_lexer": "ipython3",
   "version": "3.6.6"
  }
 },
 "nbformat": 4,
 "nbformat_minor": 2
}
